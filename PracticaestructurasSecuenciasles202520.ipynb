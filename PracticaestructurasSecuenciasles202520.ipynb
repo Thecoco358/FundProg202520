{
  "nbformat": 4,
  "nbformat_minor": 0,
  "metadata": {
    "colab": {
      "provenance": [],
      "authorship_tag": "ABX9TyP8rLq7ZyF8mHXB8u8cUMZv",
      "include_colab_link": true
    },
    "kernelspec": {
      "name": "python3",
      "display_name": "Python 3"
    },
    "language_info": {
      "name": "python"
    }
  },
  "cells": [
    {
      "cell_type": "markdown",
      "metadata": {
        "id": "view-in-github",
        "colab_type": "text"
      },
      "source": [
        "<a href=\"https://colab.research.google.com/github/Thecoco358/FundProg202520/blob/main/PracticaestructurasSecuenciasles202520.ipynb\" target=\"_parent\"><img src=\"https://colab.research.google.com/assets/colab-badge.svg\" alt=\"Open In Colab\"/></a>"
      ]
    },
    {
      "cell_type": "markdown",
      "source": [
        "Ejercicios de practica con estructuras secuenciales"
      ],
      "metadata": {
        "id": "B5V4E4leUHHt"
      }
    },
    {
      "cell_type": "markdown",
      "source": [
        "##informacion personal\n",
        "diseña un progtrama que muestre la siguiente informacion:\n",
        "-tu nombre\n",
        "-tu direcion, con ciudad, estado y codigo postal\n",
        "-tu n umero de telefono\n",
        "tu especializacion universitaria\n",
        "\n",
        "###pseudocodigo\n",
        "```\n",
        "program personal_info\n",
        "Start\n",
        "Declare string name, address, city, state, zip, phone, career\n",
        "\n",
        " Display \"programa de informacion personal\"\n",
        " Display \"ingrese su nombre\"\n",
        " Imput name\n",
        " Display \" ingrese su direccion\"\n",
        " Imput address\n",
        " Display \" ingrese su ciudad\"\n",
        " Imput City\n",
        " Display \" ingrese su Estado\"\n",
        " Imput state\n",
        " Display \" ingrese su codigo postal\"\n",
        " Ipmut zip\n",
        " Display \"Ingrese su numero de telefono\"\n",
        " Imput Phone\n",
        " Display \"Ingrese su  carrera\"\n",
        " Imput career\n",
        "\n",
        " Display \"informacion personal\"\n",
        " Display \"Nombre\", name\n",
        " Display \"Direcion\", address\n",
        " Display \"Ciudad\", city\n",
        " Display \"Estado\", state\n",
        " Display \"Codigo postal\", zip\n",
        " Display \"numero de telefo\", phone\n",
        " Display \"Carrera: \", career\n",
        "\n",
        "End\n",
        "```"
      ],
      "metadata": {
        "id": "ydVlhaO1XHVG"
      }
    },
    {
      "cell_type": "code",
      "source": [
        "# program personal_info\n",
        "\n",
        "print(\"programa de informacion personal\")\n",
        "\n",
        "#  Variables\n",
        "name = input(\"ingrese su nombre\")\n",
        "address = input(\"ingrese su direccion\")\n",
        "city = input(\"ingrese su ciudad\")\n",
        "state = input(\"ingrese su Estado\")\n",
        "zip = input(\"ingrese su codigo postal\")\n",
        "phone = input(\"Ingrese su numero de telefono\")\n",
        "career = input(\"Ingrese su  carrera\")\n",
        "\n",
        "\n",
        "print(\"informacion personal\")\n",
        "print(\"Nombre \" , address)\n",
        "print(\"Ciudad \", city)\n",
        "print(\"Estado \", state)\n",
        "print(\"Codigo postal \", zip)\n",
        "print(\"numero de telefo \", phone)\n",
        "print(\"Carrera: \", career)\n",
        "\n"
      ],
      "metadata": {
        "colab": {
          "base_uri": "https://localhost:8080/"
        },
        "id": "zBHBLvWSb1nM",
        "outputId": "7182609b-eb53-4531-e506-c5e3c7b33003"
      },
      "execution_count": 9,
      "outputs": [
        {
          "output_type": "stream",
          "name": "stdout",
          "text": [
            "programa de informacion personal\n",
            "ingrese su nombrejorge\n",
            "ingrese su direccion37A\n",
            "ingrese su ciudadmonteria\n",
            "ingrese su Estadocordoba\n",
            "ingrese su codigo postal230001\n",
            "Ingrese su numero de telefono3143375018\n",
            "Ingrese su  carreraingenieria mecanica\n",
            "informacion personal\n",
            "Nombre  37A\n",
            "Ciudad  monteria\n",
            "Estado  cordoba\n",
            "Codigo postal  230001\n",
            "numero de telefo  3143375018\n",
            "Carrera:  ingenieria mecanica\n"
          ]
        }
      ]
    },
    {
      "cell_type": "code",
      "source": [],
      "metadata": {
        "id": "Sv1AuaS3em_l"
      },
      "execution_count": null,
      "outputs": []
    }
  ]
}