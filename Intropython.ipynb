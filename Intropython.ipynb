{
  "nbformat": 4,
  "nbformat_minor": 0,
  "metadata": {
    "colab": {
      "provenance": [],
      "authorship_tag": "ABX9TyN2IcyPcRfVhZkRiOANoMEV",
      "include_colab_link": true
    },
    "kernelspec": {
      "name": "python3",
      "display_name": "Python 3"
    },
    "language_info": {
      "name": "python"
    }
  },
  "cells": [
    {
      "cell_type": "markdown",
      "metadata": {
        "id": "view-in-github",
        "colab_type": "text"
      },
      "source": [
        "<a href=\"https://colab.research.google.com/github/Thecoco358/FundProg202520/blob/main/Intropython.ipynb\" target=\"_parent\"><img src=\"https://colab.research.google.com/assets/colab-badge.svg\" alt=\"Open In Colab\"/></a>"
      ]
    },
    {
      "cell_type": "markdown",
      "source": [
        "#Introduccion a python\n",
        "\n",
        "##Fundamentos de programacion\n",
        "\n",
        "###Universidad de Pontificia Bolivariana- seccional Monteria\n",
        "\n",
        "**Fecha** 29 de agosto de 2025\n",
        "\n",
        "**Pesentado por:**_Jorge Garces_\n",
        "\n",
        "en la siguiente actividad se exploraran los componentes de Python."
      ],
      "metadata": {
        "id": "K4twgd8cZWBf"
      }
    },
    {
      "cell_type": "code",
      "source": [
        "#comentarios\n",
        "\n",
        "#PLIMO eso no era asi plimo echa pa aca echa pa aca"
      ],
      "metadata": {
        "id": "VbFen7sfdjZT"
      },
      "execution_count": 24,
      "outputs": []
    },
    {
      "cell_type": "code",
      "source": [
        "#print\n",
        "\n",
        "# la funcion print() se utiliza para imprimir un mensaje de consola\n",
        "\n",
        "print(\"Hola Mundo!\")"
      ],
      "metadata": {
        "colab": {
          "base_uri": "https://localhost:8080/"
        },
        "id": "e6Lc9NvreYTw",
        "outputId": "8e308c77-9bef-440d-8f70-ceb974673070"
      },
      "execution_count": 8,
      "outputs": [
        {
          "output_type": "stream",
          "name": "stdout",
          "text": [
            "Hola Mundo!\n"
          ]
        }
      ]
    },
    {
      "cell_type": "code",
      "source": [
        "#variables\n",
        "\n",
        "#se utiliza para \"almacenar\"datos en memorias. Es una referencia a la direccion en memoria de donde se almacenan los datos.\n",
        "\n",
        "name = \"Jorge Garces\"\n",
        "age = 17\n",
        "height = 1.72\n",
        "City = \"San Pedro de Uraba\"\n",
        "is_sleeping= False\n",
        "print(name, age, height, city, is_sleepling)"
      ],
      "metadata": {
        "id": "72iRklFKe_O7"
      },
      "execution_count": null,
      "outputs": []
    },
    {
      "cell_type": "code",
      "source": [
        "#calculos\n",
        "\n",
        "a = 5\n",
        "b = 2.3\n",
        "c = a + b\n",
        "d = a - b\n",
        "e = a * b\n",
        "f = a / b\n",
        "g = a % b\n",
        "h = a ** b\n",
        "print(c)\n",
        "print(d)\n",
        "print(e)\n",
        "print(f)\n",
        "print(g)\n",
        "print(h)"
      ],
      "metadata": {
        "colab": {
          "base_uri": "https://localhost:8080/"
        },
        "id": "7SVVRVrkg96f",
        "outputId": "2547709f-f3cc-4870-f62e-89587b0837e6"
      },
      "execution_count": 9,
      "outputs": [
        {
          "output_type": "stream",
          "name": "stdout",
          "text": [
            "7.3\n",
            "2.7\n",
            "11.5\n",
            "2.173913043478261\n",
            "0.40000000000000036\n",
            "40.51641491731905\n"
          ]
        }
      ]
    },
    {
      "cell_type": "code",
      "source": [
        "#cambio de valores\n",
        "\n",
        "a = 5\n",
        "print(a)\n",
        "a = 10\n",
        "print(a)"
      ],
      "metadata": {
        "colab": {
          "base_uri": "https://localhost:8080/"
        },
        "id": "JAQ2aBuIiUWL",
        "outputId": "8e3aba15-04fb-4402-8362-1893f217a75b"
      },
      "execution_count": 10,
      "outputs": [
        {
          "output_type": "stream",
          "name": "stdout",
          "text": [
            "5\n",
            "10\n"
          ]
        }
      ]
    },
    {
      "cell_type": "code",
      "source": [
        "#concatenacion\n",
        "\n",
        "#concatenar consiste en unir texto (o suamr datos de tipo texto)\n",
        "firstname = \"Jorge\"\n",
        "lastname = \"Garces\"\n",
        "fullname = firstname + \" \" + lastname\n",
        "print(fullname)"
      ],
      "metadata": {
        "colab": {
          "base_uri": "https://localhost:8080/"
        },
        "id": "SKkQLkkvjID9",
        "outputId": "9513925a-9a44-489c-8b09-632db7d2a0c8"
      },
      "execution_count": 11,
      "outputs": [
        {
          "output_type": "stream",
          "name": "stdout",
          "text": [
            "Jorge Garces\n"
          ]
        }
      ]
    },
    {
      "cell_type": "code",
      "source": [
        "#Incremetador\n",
        "\n",
        "time = 0\n",
        "print(time)\n",
        "time += 1\n",
        "print(time)\n",
        "time += 2\n",
        "print(time)\n",
        "time -= 3\n",
        "print(time)\n",
        "time *= 4\n",
        "time /= 5\n",
        "print(time)"
      ],
      "metadata": {
        "colab": {
          "base_uri": "https://localhost:8080/"
        },
        "id": "-iwvUQ1zkDL2",
        "outputId": "670074dd-5941-465a-c46e-4656598f7060"
      },
      "execution_count": 17,
      "outputs": [
        {
          "output_type": "stream",
          "name": "stdout",
          "text": [
            "0\n",
            "1\n",
            "3\n",
            "0\n",
            "0.0\n"
          ]
        }
      ]
    },
    {
      "cell_type": "code",
      "source": [
        "# Variables lineas de texto\n",
        "\n",
        "song = \"\"\"Ayer me llamó una niña\n",
        "En medio del desespero\n",
        "Me dijo: \"yo quiero verga\"\n",
        "Pero la miré primero\n",
        "Me la llevé pa'l hotel\n",
        "Y allá parecía un derrame\n",
        "Yo haciéndole la miné\n",
        "Y ella mame que más mame\n",
        "Yo le hice voltear el culo\n",
        "Y se lo estaba metiendo\n",
        "Me dijo: \"voy a morirme\n",
        "Sigue, papito, batiendo\"\n",
        "Mételo así y hazme sentir\n",
        "Que ya me voy a venir\n",
        "Ay, mételo así y hazme sentir\n",
        "Que ya me voy a venir\n",
        "\"\"\"\n",
        "\n",
        "print(song)"
      ],
      "metadata": {
        "colab": {
          "base_uri": "https://localhost:8080/"
        },
        "id": "MvJ-iO5pkefh",
        "outputId": "2b112387-87d3-4921-d92d-351042c6f855"
      },
      "execution_count": 22,
      "outputs": [
        {
          "output_type": "stream",
          "name": "stdout",
          "text": [
            "Ayer me llamó una niña\n",
            "En medio del desespero\n",
            "Me dijo: \"yo quiero verga\"\n",
            "Pero la miré primero\n",
            "Me la llevé pa'l hotel\n",
            "Y allá parecía un derrame\n",
            "Yo haciéndole la miné\n",
            "Y ella mame que más mame\n",
            "Yo le hice voltear el culo\n",
            "Y se lo estaba metiendo\n",
            "Me dijo: \"voy a morirme\n",
            "Sigue, papito, batiendo\"\n",
            "Mételo así y hazme sentir\n",
            "Que ya me voy a venir\n",
            "Ay, mételo así y hazme sentir\n",
            "Que ya me voy a venir\n",
            "\n"
          ]
        }
      ]
    },
    {
      "cell_type": "code",
      "source": [
        "# Imputs\n",
        "\n",
        "# se utiliza para gestionar entradas de usuarios\n",
        "\n",
        "name = input(\"hola. ¿Cual es tu nombre? \")\n",
        "print(\"hola\", name, \"mucho gusto\")"
      ],
      "metadata": {
        "colab": {
          "base_uri": "https://localhost:8080/"
        },
        "id": "iGXjyJWSmbQm",
        "outputId": "0dad4584-a69f-4a38-886b-4a25d43118d0"
      },
      "execution_count": 20,
      "outputs": [
        {
          "output_type": "stream",
          "name": "stdout",
          "text": [
            "hola. ¿Cual es tu nombre? Jorge Garces\n",
            "hola Jorge Garces mucho gusto\n"
          ]
        }
      ]
    },
    {
      "cell_type": "code",
      "source": [
        "# calcular_tiempo\n",
        "# programa para calcular el tiempo de caida libre\n",
        "\n",
        "G = 9.81\n",
        "#h = 10 # t = 1.4278\n",
        "#h = 20 # t = 2.019\n",
        "#h = 30 # t = 2.4730\n",
        "h = float(input(\"ingrese la altura(m):\"))\n",
        "t = (2* h / G) ** (1 / 2)\n",
        "print(\"el tiempo de caida libre es\", t, \"segundos.\")"
      ],
      "metadata": {
        "colab": {
          "base_uri": "https://localhost:8080/"
        },
        "id": "uv2f8geMnZBw",
        "outputId": "65f2a1ca-fd42-435b-b807-a3ff16ff6144"
      },
      "execution_count": 23,
      "outputs": [
        {
          "output_type": "stream",
          "name": "stdout",
          "text": [
            "ingrese la altura(m):10\n",
            "el tiempo de caida libre es 1.4278431229270645 segundos.\n"
          ]
        }
      ]
    },
    {
      "cell_type": "code",
      "source": [
        "#promedio de creditos\n",
        "\n",
        "# Escriba un programa para calcular y mostrar el numero de creditos incritos por 3 estudiantes y el promedio de creditos\n",
        "\n",
        "#estudiantes"
      ],
      "metadata": {
        "id": "y6iUH1Lnql-I"
      },
      "execution_count": null,
      "outputs": []
    }
  ]
}